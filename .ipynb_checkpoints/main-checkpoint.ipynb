{
 "cells": [
  {
   "cell_type": "markdown",
   "metadata": {},
   "source": [
    "# ML Assignment 1"
   ]
  },
  {
   "cell_type": "code",
   "execution_count": null,
   "metadata": {},
   "outputs": [],
   "source": [
    "# Imports\n",
    "import xml.etree.ElementTree as ET\n",
    "import cv2\n",
    "import numpy as np\n",
    "import matplotlib.pyplot as plt\n",
    "import matplotlib.patches as patches"
   ]
  },
  {
   "cell_type": "code",
   "execution_count": null,
   "metadata": {},
   "outputs": [],
   "source": [
    "# Functions\n",
    "\n",
    "def extract_boxes(annotation_file):\n",
    "    \"\"\" Extract bounding boxes from an annotation file\"\"\"\n",
    "    \n",
    "    # Load and parse the file\n",
    "    tree = ET.parse(annotation_file)\n",
    "    root = tree.getroot()\n",
    "    \n",
    "    # Get all bounding boxes\n",
    "    boxes = []\n",
    "    for box in root.findall('.//bndbox'):\n",
    "        xmin = int(box.find('xmin').text)\n",
    "        ymin = int(box.find('ymin').text)\n",
    "        xmax = int(box.find('xmax').text)\n",
    "        ymax = int(box.find('ymax').text)\n",
    "        coors = [xmin, ymin, xmax, ymax]\n",
    "        boxes.append(coors)\n",
    "        \n",
    "    return boxes\n",
    "\n",
    "def draw_bounding_boxes(ax,boxes,edgecolor = 'green'):\n",
    "    \"\"\" Draw bounding boxes on axis \"\"\"\n",
    "    for box in boxes:\n",
    "        width = box[2]-box[0]\n",
    "        height = box[3] - box[1]\n",
    "        xmin,ymin = box[0],box[1]\n",
    "        rect = patches.Rectangle((xmin,ymin),width,height, edgecolor = edgecolor, fill=False)\n",
    "        ax.add_patch(rect)\n",
    "    "
   ]
  },
  {
   "cell_type": "code",
   "execution_count": null,
   "metadata": {},
   "outputs": [],
   "source": [
    "# Load image\n",
    "img = cv2.imread('TestImageSmall.jpg')\n",
    "img = cv2.cvtColor(img,cv2.COLOR_BGR2RGB)\n",
    "\n",
    "# Selective search\n",
    "ss = cv2.ximgproc.segmentation.createSelectiveSearchSegmentation()\n",
    "ss.setBaseImage(img)\n",
    "ss.switchToSelectiveSearchFast()\n",
    "ssresults = ss.process()"
   ]
  },
  {
   "cell_type": "code",
   "execution_count": null,
   "metadata": {},
   "outputs": [],
   "source": [
    "plt.rcParams[\"figure.figsize\"] = (20,10)\n",
    "\n",
    "# Plot image\n",
    "plt.imshow(img)\n",
    "plt.axis('off')\n",
    "ax = plt.gca()\n",
    "\n",
    "for box in ssresults:\n",
    "    xmin,ymin,width,height = box\n",
    "    if width < 50 and height < 50:\n",
    "        rect = patches.Rectangle((xmin,ymin),width,height, edgecolor = 'cyan', fill=False)\n",
    "        ax.add_patch(rect)"
   ]
  }
 ],
 "metadata": {
  "kernelspec": {
   "display_name": "Python 3",
   "language": "python",
   "name": "python3"
  },
  "language_info": {
   "codemirror_mode": {
    "name": "ipython",
    "version": 3
   },
   "file_extension": ".py",
   "mimetype": "text/x-python",
   "name": "python",
   "nbconvert_exporter": "python",
   "pygments_lexer": "ipython3",
   "version": "3.7.5"
  }
 },
 "nbformat": 4,
 "nbformat_minor": 2
}
